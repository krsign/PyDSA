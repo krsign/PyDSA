{
 "cells": [
  {
   "cell_type": "code",
   "execution_count": 19,
   "metadata": {},
   "outputs": [],
   "source": [
    "import time\n",
    "def sum_of_n(n):\n",
    "    start = time.time()\n",
    "    \n",
    "    the_sum = 0\n",
    "    for i in range(1, n+1):\n",
    "        the_sum = the_sum + i\n",
    "    end = time.time()\n",
    "    \n",
    "    return the_sum,end-start"
   ]
  },
  {
   "cell_type": "code",
   "execution_count": 20,
   "metadata": {},
   "outputs": [
    {
     "name": "stdout",
     "output_type": "stream",
     "text": [
      "sum is 50005000 require  0.0006940 second\n",
      "sum is 50005000 require  0.0006642 second\n",
      "sum is 50005000 require  0.0007372 second\n",
      "sum is 50005000 require  0.0007260 second\n",
      "sum is 50005000 require  0.0006714 second\n"
     ]
    }
   ],
   "source": [
    "import time\n",
    "def sum_of_n(n):\n",
    "    start = time.time()\n",
    "    \n",
    "    the_sum = 0\n",
    "    for i in range(1,n+1):\n",
    "        the_sum += i\n",
    "    end = time.time()\n",
    "    \n",
    "    return the_sum,end-start\n",
    "for i in range(5):\n",
    "    print('sum is %d require %10.7f second' % sum_of_n(10000))"
   ]
  },
  {
   "cell_type": "code",
   "execution_count": 21,
   "metadata": {},
   "outputs": [
    {
     "name": "stdout",
     "output_type": "stream",
     "text": [
      "sum is 500000500000 require  0.0717161 second\n",
      "sum is 500000500000 require  0.0711601 second\n",
      "sum is 500000500000 require  0.0687640 second\n",
      "sum is 500000500000 require  0.0684018 second\n",
      "sum is 500000500000 require  0.0696237 second\n"
     ]
    }
   ],
   "source": [
    "import time\n",
    "def sum_of_n(n):\n",
    "    start = time.time()\n",
    "    \n",
    "    the_sum = 0\n",
    "    for i in range(1,n+1):\n",
    "        the_sum += i\n",
    "    end = time.time()\n",
    "    \n",
    "    return the_sum,end-start\n",
    "for i in range(5):\n",
    "    print('sum is %d require %10.7f second' % sum_of_n(1000000))"
   ]
  },
  {
   "cell_type": "code",
   "execution_count": 31,
   "metadata": {},
   "outputs": [
    {
     "name": "stdout",
     "output_type": "stream",
     "text": [
      "sum is 50001000010000048128 require  0.0000010 second\n",
      "sum is 50001000010000048128 require  0.0000000 second\n",
      "sum is 50001000010000048128 require  0.0000000 second\n",
      "sum is 50001000010000048128 require  0.0000000 second\n",
      "sum is 50001000010000048128 require  0.0000000 second\n"
     ]
    }
   ],
   "source": [
    "def sum_of_n(n):\n",
    "    start = time.time()\n",
    "    end = time.time()\n",
    "    return (n * (n+1)) / 2,end-start\n",
    "\n",
    "for i in range(5):\n",
    "    print('sum is %d require %10.7f second' % sum_of_n(10000100000))"
   ]
  }
 ],
 "metadata": {
  "kernelspec": {
   "display_name": "Python 3",
   "language": "python",
   "name": "python3"
  },
  "language_info": {
   "codemirror_mode": {
    "name": "ipython",
    "version": 3
   },
   "file_extension": ".py",
   "mimetype": "text/x-python",
   "name": "python",
   "nbconvert_exporter": "python",
   "pygments_lexer": "ipython3",
   "version": "3.7.4"
  }
 },
 "nbformat": 4,
 "nbformat_minor": 2
}
